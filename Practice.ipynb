{
 "cells": [
  {
   "cell_type": "code",
   "execution_count": 3,
   "metadata": {},
   "outputs": [
    {
     "name": "stdout",
     "output_type": "stream",
     "text": [
      "1300\n"
     ]
    }
   ],
   "source": [
    "#sum of (1-100) which are divided by 4\n",
    "a=0\n",
    "for i in range (1,101):\n",
    "    if i%4==0:\n",
    "        a=a+i\n",
    "print (a)"
   ]
  },
  {
   "cell_type": "code",
   "execution_count": 6,
   "metadata": {},
   "outputs": [
    {
     "name": "stdout",
     "output_type": "stream",
     "text": [
      "6\n",
      "12\n",
      "18\n",
      "24\n",
      "36\n",
      "42\n",
      "48\n",
      "54\n",
      "66\n",
      "72\n",
      "78\n",
      "84\n",
      "96\n"
     ]
    }
   ],
   "source": [
    "#divisible by 2 and 3 but not by 5\n",
    "\n",
    "for i in range (1,101):\n",
    "    if i%2==0 and i%3==0 and i%5!=0:\n",
    "        print(i)\n",
    "        "
   ]
  },
  {
   "cell_type": "code",
   "execution_count": 7,
   "metadata": {},
   "outputs": [
    {
     "name": "stdout",
     "output_type": "stream",
     "text": [
      "2550\n"
     ]
    }
   ],
   "source": [
    "#add all even from 1-100\n",
    "b=0\n",
    "for i in range (1,101):\n",
    "    if i%2==0:\n",
    "        b=b+i\n",
    "print(b)\n",
    "        \n"
   ]
  },
  {
   "cell_type": "code",
   "execution_count": 8,
   "metadata": {},
   "outputs": [
    {
     "name": "stdout",
     "output_type": "stream",
     "text": [
      "3\n",
      "9\n",
      "15\n",
      "21\n",
      "27\n",
      "33\n",
      "39\n",
      "45\n",
      "51\n",
      "57\n",
      "63\n",
      "69\n",
      "75\n",
      "81\n",
      "87\n",
      "93\n",
      "99\n"
     ]
    }
   ],
   "source": [
    "#divisible by 3 but not by 2\n",
    "\n",
    "for i in range (1,101):\n",
    "    if i%3==0 and i%2!=0:\n",
    "        print(i)"
   ]
  },
  {
   "cell_type": "code",
   "execution_count": 13,
   "metadata": {},
   "outputs": [
    {
     "name": "stdout",
     "output_type": "stream",
     "text": [
      "enter number5\n",
      "120\n"
     ]
    }
   ],
   "source": [
    "#Factorial of a number\n",
    "\n",
    "a=int(input(\"enter number\"))\n",
    "b=1\n",
    "for i in range (1,a+1):\n",
    "    b=b*i\n",
    "print(b)"
   ]
  },
  {
   "cell_type": "code",
   "execution_count": 15,
   "metadata": {},
   "outputs": [
    {
     "name": "stdout",
     "output_type": "stream",
     "text": [
      "enter number4\n",
      "no\n"
     ]
    }
   ],
   "source": [
    "#multiple of 5 or not\n",
    "a=int(input(\"enter number\"))\n",
    "if a%5==0:\n",
    "    print('yes')\n",
    "else:\n",
    "    print('no')"
   ]
  },
  {
   "cell_type": "code",
   "execution_count": 26,
   "metadata": {},
   "outputs": [
    {
     "name": "stdout",
     "output_type": "stream",
     "text": [
      "enter number101\n",
      "dont take\n"
     ]
    }
   ],
   "source": [
    "#take only values (18-100)\n",
    "\n",
    "a=int(input(\"enter number\"))\n",
    "if (a<18):\n",
    "    print('dont take')\n",
    "elif (a>100):\n",
    "    print('dont take')\n",
    "else:\n",
    "    print('allowed')\n"
   ]
  },
  {
   "cell_type": "code",
   "execution_count": 28,
   "metadata": {},
   "outputs": [
    {
     "data": {
      "text/plain": [
       "24"
      ]
     },
     "execution_count": 28,
     "metadata": {},
     "output_type": "execute_result"
    }
   ],
   "source": [
    "#sum of odd factors\n",
    "\n",
    "def sum(n):\n",
    "    a=0\n",
    "    for i in range(1,n+1):\n",
    "        if n%i==0 and i%2!=0:\n",
    "            a+=i\n",
    "    return (a)\n",
    "sum(30)"
   ]
  },
  {
   "cell_type": "code",
   "execution_count": 32,
   "metadata": {},
   "outputs": [
    {
     "name": "stdout",
     "output_type": "stream",
     "text": [
      "[1, 11]\n"
     ]
    }
   ],
   "source": [
    "#common factors\n",
    "\n",
    "a=44\n",
    "b=77\n",
    "l1=[]\n",
    "l2=[]\n",
    "l3=[]\n",
    "for i in range (1,a+1):\n",
    "    if a%i==0:\n",
    "        l1.append(i)\n",
    "for i in range (1,b+1):\n",
    "    if b%i==0:\n",
    "        l2.append(i)\n",
    "for i in l1:\n",
    "    for j in l2:\n",
    "        if i==j:\n",
    "            l3.append(i)\n",
    "print(l3)"
   ]
  },
  {
   "cell_type": "code",
   "execution_count": 45,
   "metadata": {},
   "outputs": [
    {
     "name": "stdout",
     "output_type": "stream",
     "text": [
      "Enter a number6\n",
      "number is not prime\n"
     ]
    }
   ],
   "source": [
    "a=int(input(\"Enter a number\"))\n",
    "is_prime=True\n",
    "for i in range(2,a):\n",
    "    if a%i==0:\n",
    "        is_prime=False\n",
    "\n",
    "if (is_prime):\n",
    "    print('numer is prime')\n",
    "else:\n",
    "    print('number is not prime')\n",
    "        "
   ]
  },
  {
   "cell_type": "code",
   "execution_count": 48,
   "metadata": {},
   "outputs": [
    {
     "name": "stdout",
     "output_type": "stream",
     "text": [
      "1\n",
      "numer is prime\n",
      "2\n",
      "numer is prime\n",
      "3\n",
      "numer is prime\n",
      "4\n",
      "number is not prime\n",
      "5\n",
      "numer is prime\n",
      "6\n",
      "number is not prime\n",
      "7\n",
      "numer is prime\n",
      "8\n",
      "number is not prime\n",
      "9\n",
      "number is not prime\n",
      "10\n",
      "number is not prime\n",
      "11\n",
      "numer is prime\n",
      "12\n",
      "number is not prime\n",
      "13\n",
      "numer is prime\n",
      "14\n",
      "number is not prime\n",
      "15\n",
      "number is not prime\n",
      "16\n",
      "number is not prime\n",
      "17\n",
      "numer is prime\n",
      "18\n",
      "number is not prime\n",
      "19\n",
      "numer is prime\n",
      "20\n",
      "number is not prime\n",
      "21\n",
      "number is not prime\n",
      "22\n",
      "number is not prime\n",
      "23\n",
      "numer is prime\n",
      "24\n",
      "number is not prime\n",
      "25\n",
      "number is not prime\n",
      "26\n",
      "number is not prime\n",
      "27\n",
      "number is not prime\n",
      "28\n",
      "number is not prime\n",
      "29\n",
      "numer is prime\n",
      "30\n",
      "number is not prime\n",
      "31\n",
      "numer is prime\n",
      "32\n",
      "number is not prime\n",
      "33\n",
      "number is not prime\n",
      "34\n",
      "number is not prime\n",
      "35\n",
      "number is not prime\n",
      "36\n",
      "number is not prime\n",
      "37\n",
      "numer is prime\n",
      "38\n",
      "number is not prime\n",
      "39\n",
      "number is not prime\n",
      "40\n",
      "number is not prime\n",
      "41\n",
      "numer is prime\n",
      "42\n",
      "number is not prime\n",
      "43\n",
      "numer is prime\n",
      "44\n",
      "number is not prime\n",
      "45\n",
      "number is not prime\n",
      "46\n",
      "number is not prime\n",
      "47\n",
      "numer is prime\n",
      "48\n",
      "number is not prime\n",
      "49\n",
      "number is not prime\n"
     ]
    }
   ],
   "source": [
    "for i in range(1,50):\n",
    "    print(i)\n",
    "    is_prime=True\n",
    "    for j in range(2,i):\n",
    "        if i%j==0:\n",
    "            is_prime=False\n",
    "\n",
    "    if (is_prime):\n",
    "        print('numer is prime')\n",
    "    else:\n",
    "        print('number is not prime') "
   ]
  },
  {
   "cell_type": "code",
   "execution_count": null,
   "metadata": {},
   "outputs": [],
   "source": []
  }
 ],
 "metadata": {
  "kernelspec": {
   "display_name": "Python 3",
   "language": "python",
   "name": "python3"
  },
  "language_info": {
   "codemirror_mode": {
    "name": "ipython",
    "version": 3
   },
   "file_extension": ".py",
   "mimetype": "text/x-python",
   "name": "python",
   "nbconvert_exporter": "python",
   "pygments_lexer": "ipython3",
   "version": "3.8.5"
  }
 },
 "nbformat": 4,
 "nbformat_minor": 4
}
